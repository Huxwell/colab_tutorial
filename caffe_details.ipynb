{
  "nbformat": 4,
  "nbformat_minor": 0,
  "metadata": {
    "colab": {
      "name": "caffe-details.ipynb",
      "provenance": [],
      "authorship_tag": "ABX9TyP83eLBlcxra+rJp+dTS1Gj",
      "include_colab_link": true
    },
    "kernelspec": {
      "name": "python3",
      "display_name": "Python 3"
    },
    "language_info": {
      "name": "python"
    }
  },
  "cells": [
    {
      "cell_type": "markdown",
      "metadata": {
        "id": "view-in-github",
        "colab_type": "text"
      },
      "source": [
        "<a href=\"https://colab.research.google.com/github/Huxwell/colab_tutorial/blob/master/caffe_details.ipynb\" target=\"_parent\"><img src=\"https://colab.research.google.com/assets/colab-badge.svg\" alt=\"Open In Colab\"/></a>"
      ]
    },
    {
      "cell_type": "code",
      "metadata": {
        "id": "IGJ7L2cw80tG"
      },
      "source": [
        "!sudo apt build-dep caffe-cuda "
      ],
      "execution_count": null,
      "outputs": []
    },
    {
      "cell_type": "code",
      "metadata": {
        "id": "nVVCDQoSBnFU"
      },
      "source": [
        "!ls"
      ],
      "execution_count": null,
      "outputs": []
    },
    {
      "cell_type": "code",
      "metadata": {
        "id": "vCy0jVs6Bo7G"
      },
      "source": [
        "!git clone https://github.com/BVLC/caffe.git"
      ],
      "execution_count": null,
      "outputs": []
    },
    {
      "cell_type": "code",
      "metadata": {
        "id": "1WehWnGHBw1s"
      },
      "source": [
        "%cd caffe & ls\n",
        "!cp Makefile.config.example Makefile.config\n",
        "!make all -j"
      ],
      "execution_count": null,
      "outputs": []
    },
    {
      "cell_type": "code",
      "metadata": {
        "id": "VrNhAFKr_b_q"
      },
      "source": [
        "!cat /etc/apt/sources.list"
      ],
      "execution_count": null,
      "outputs": []
    },
    {
      "cell_type": "code",
      "metadata": {
        "id": "SLasye2NAoed"
      },
      "source": [
        "!sed -i.bak 's/# deb-src/deb-src/g' /etc/apt/sources.list"
      ],
      "execution_count": null,
      "outputs": []
    },
    {
      "cell_type": "code",
      "metadata": {
        "id": "4aON93Z8A1WS"
      },
      "source": [
        "!sudo apt-get update"
      ],
      "execution_count": null,
      "outputs": []
    }
  ]
}